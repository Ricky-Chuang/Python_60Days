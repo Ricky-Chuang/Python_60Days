{
 "metadata": {
  "language_info": {
   "codemirror_mode": {
    "name": "ipython",
    "version": 3
   },
   "file_extension": ".py",
   "mimetype": "text/x-python",
   "name": "python",
   "nbconvert_exporter": "python",
   "pygments_lexer": "ipython3",
   "version": "3.8.3-final"
  },
  "orig_nbformat": 2,
  "kernelspec": {
   "name": "python3",
   "display_name": "Python 3",
   "language": "python"
  }
 },
 "nbformat": 4,
 "nbformat_minor": 2,
 "cells": [
  {
   "cell_type": "code",
   "execution_count": null,
   "metadata": {},
   "outputs": [],
   "source": [
    "# 作業目標\n",
    "# 計算有缺失值的資料，統計量實作\n",
    "# 作業重點\n",
    "# 當遇到缺失值有函式可以處理，不須額外寫程式刪除\n",
    "# 計算統計量時不能出現缺失值\n",
    "\n",
    "# 題目:\n",
    "# english_score = np.array([55,89,76,65,48,70])\n",
    "# math_score = np.array([60,85,60,68,np.nan,60])\n",
    "# chinese_score = np.array([65,90,82,72,66,77])\n",
    "# 上3列共六位同學的英文、數學、國文成績，第一個元素代表第一位同學，舉例第一位同學英文55分、數學60分、國文65分，今天第五位同學因某原因沒來考試，導致數學成績缺值，運用上列數據回答下列問題。\n",
    "\n",
    "# 請計算各科成績平均、最大值、最小值、標準差，其中數學缺一筆資料可忽略?\n",
    "# 第五位同學補考數學後成績為55，請計算補考後數學成績平均、最大值、最小值、標準差?\n",
    "# 用補考後資料找出與國文成績相關係數最高的學科?"
   ]
  },
  {
   "cell_type": "code",
   "execution_count": null,
   "metadata": {},
   "outputs": [],
   "source": [
    "import numpy as np"
   ]
  },
  {
   "cell_type": "code",
   "execution_count": null,
   "metadata": {},
   "outputs": [],
   "source": [
    "english_score = np.array([55,89,76,65,48,70])\n",
    "math_score = np.array([60,85,60,68,np.nan,60])\n",
    "chinese_score = np.array([65,90,82,72,66,77])"
   ]
  },
  {
   "cell_type": "code",
   "execution_count": null,
   "metadata": {},
   "outputs": [],
   "source": [
    "# 1.請計算各科成績平均、最大值、最小值、標準差，其中數學缺一筆資料可忽略?"
   ]
  },
  {
   "cell_type": "code",
   "execution_count": 21,
   "metadata": {},
   "outputs": [
    {
     "output_type": "stream",
     "name": "stdout",
     "text": [
      "英文成績平均： 67.16666666666667\n英文成績最大值： 89\n英文成績最小值： 48\n英文成績標準差： 13.433995020924426\n數學成績平均： 66.6\n數學成績最大值： 85.0\n數學成績最小值： 60.0\n數學成績標準差： 9.707728879609279\n國文成績平均： 75.33333333333333\n國文成績最大值： 90\n國文成績最小值： 65\n國文成績標準差： 8.825468196582484\n"
     ]
    }
   ],
   "source": [
    "print(\"英文成績平均：\",np.mean(english_score))\n",
    "print(\"英文成績最大值：\",np.max(english_score))\n",
    "print(\"英文成績最小值：\",np.min(english_score))\n",
    "print(\"英文成績標準差：\",np.std(english_score))\n",
    "print(\"數學成績平均：\",np.nanmean(math_score))\n",
    "print(\"數學成績最大值：\",np.nanmax(math_score))\n",
    "print(\"數學成績最小值：\",np.nanmin(math_score))\n",
    "print(\"數學成績標準差：\",np.nanstd(math_score))\n",
    "print(\"國文成績平均：\",np.mean(chinese_score))\n",
    "print(\"國文成績最大值：\",np.max(chinese_score))\n",
    "print(\"國文成績最小值：\",np.min(chinese_score))\n",
    "print(\"國文成績標準差：\",np.std(chinese_score))"
   ]
  },
  {
   "cell_type": "code",
   "execution_count": null,
   "metadata": {},
   "outputs": [],
   "source": [
    "# 2.第五位同學補考數學後成績為55，請計算補考後數學成績平均、最大值、最小值、標準差?"
   ]
  },
  {
   "cell_type": "code",
   "execution_count": 22,
   "metadata": {},
   "outputs": [
    {
     "output_type": "stream",
     "name": "stdout",
     "text": [
      "數學成績平均： 64.66666666666667\n數學成績最大值： 85\n數學成績最小值： 55\n數學成績標準差： 9.860132971832694\n"
     ]
    }
   ],
   "source": [
    "math_score = np.array([60,85,60,68,55,60])\n",
    "print(\"數學成績平均：\",np.nanmean(math_score))\n",
    "print(\"數學成績最大值：\",np.nanmax(math_score))\n",
    "print(\"數學成績最小值：\",np.nanmin(math_score))\n",
    "print(\"數學成績標準差：\",np.nanstd(math_score))"
   ]
  },
  {
   "cell_type": "code",
   "execution_count": 23,
   "metadata": {},
   "outputs": [],
   "source": [
    "# 3.用補考後資料找出與國文成績相關係數最高的學科?"
   ]
  },
  {
   "cell_type": "code",
   "execution_count": 26,
   "metadata": {},
   "outputs": [
    {
     "output_type": "execute_result",
     "data": {
      "text/plain": [
       "array([[1.        , 0.74056803, 0.97792828],\n",
       "       [0.74056803, 1.        , 0.7855563 ],\n",
       "       [0.97792828, 0.7855563 , 1.        ]])"
      ]
     },
     "metadata": {},
     "execution_count": 26
    }
   ],
   "source": [
    "total_score = np.array([[65,90,82,72,66,77],  # Chinese\n",
    "                        [60,85,60,68,55,60],  # Math\n",
    "                        [55,89,76,65,48,70]]) # English\n",
    "np.corrcoef(total_score)"
   ]
  },
  {
   "cell_type": "code",
   "execution_count": 27,
   "metadata": {},
   "outputs": [],
   "source": [
    "# 國文與英文相關係數最高(0.9779)"
   ]
  }
 ]
}