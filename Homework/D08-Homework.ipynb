{
 "metadata": {
  "language_info": {
   "codemirror_mode": {
    "name": "ipython",
    "version": 3
   },
   "file_extension": ".py",
   "mimetype": "text/x-python",
   "name": "python",
   "nbconvert_exporter": "python",
   "pygments_lexer": "ipython3",
   "version": "3.8.3-final"
  },
  "orig_nbformat": 2,
  "kernelspec": {
   "name": "python3",
   "display_name": "Python 3",
   "language": "python"
  }
 },
 "nbformat": 4,
 "nbformat_minor": 2,
 "cells": [
  {
   "cell_type": "code",
   "execution_count": 1,
   "metadata": {},
   "outputs": [],
   "source": [
    "# 作業目標\n",
    "# 在一個陣列中放入多屬性陣列，進一步對陣列做運算\n",
    "# 作業重點\n",
    "# 在建立結構化陣列前需要先設定屬性，在做運算時須注意資料屬性\n",
    "\n",
    "# 題目:\n",
    "# name_list = ['小明','小華','小菁','小美','小張','John','Mark','Tom']\n",
    "# sex_list = ['boy','boy','girl','girl','boy','boy','boy','boy']\n",
    "# weight_list = [67.5,75.3,50.1,45.5,80.8,90.4,78.4,70.7]\n",
    "# rank_list = [8,1,5,4,7,6,2,3]\n",
    "# myopia_list = [True,True,False,False,True,True,False,False]\n",
    "\n",
    "# 將上列list依照['name', 'sex', 'weight', 'rank', 'myopia']順序擺入array，並且資料型態順序擺入[Unicode,Unicode,float,int,boolean]\n",
    "# 呈上題，將array中體重(weight)數據集取出算出全部平均體重\n",
    "# 呈上題，進一步算出男生(sex欄位是boy)平均體重、女生(sex欄位是girl)平均體重"
   ]
  },
  {
   "cell_type": "code",
   "execution_count": 1,
   "metadata": {},
   "outputs": [],
   "source": [
    "import numpy as np"
   ]
  },
  {
   "cell_type": "code",
   "execution_count": 2,
   "metadata": {},
   "outputs": [],
   "source": [
    "name_list = ['小明','小華','小菁','小美','小張','John','Mark','Tom']\n",
    "sex_list = ['boy','boy','girl','girl','boy','boy','boy','boy']\n",
    "weight_list = [67.5,75.3,50.1,45.5,80.8,90.4,78.4,70.7]\n",
    "rank_list = [8,1,5,4,7,6,2,3]\n",
    "myopia_list = [True,True,False,False,True,True,False,False]"
   ]
  },
  {
   "cell_type": "code",
   "execution_count": 4,
   "metadata": {},
   "outputs": [],
   "source": [
    "# 1.將上列list依照['name', 'sex', 'weight', 'rank', 'myopia']順序擺入array，並且資料型態順序擺入[Unicode,Unicode,float,int,boolean]"
   ]
  },
  {
   "cell_type": "code",
   "execution_count": 13,
   "metadata": {},
   "outputs": [
    {
     "output_type": "stream",
     "name": "stdout",
     "text": [
      "[('小明', 'boy', 67.5, 8,  True) ('小華', 'boy', 75.3, 1,  True)\n ('小菁', 'girl', 50.1, 5, False) ('小美', 'girl', 45.5, 4, False)\n ('小張', 'boy', 80.8, 7,  True) ('John', 'boy', 90.4, 6,  True)\n ('Mark', 'boy', 78.4, 2, False) ('Tom', 'boy', 70.7, 3, False)]\n"
     ]
    }
   ],
   "source": [
    "dt = np.dtype({'names':('Name','Sex','Weight','Rank','Myopia'),'formats':((str,4),(str,4),float,int,bool)})\n",
    "\n",
    "new_array = np.zeros(8,dtype=dt)\n",
    "\n",
    "new_array['Name'] = name_list\n",
    "new_array['Sex'] = sex_list\n",
    "new_array['Weight'] = weight_list\n",
    "new_array['Rank'] = rank_list\n",
    "new_array['Myopia'] = myopia_list\n",
    "\n",
    "print(new_array)"
   ]
  },
  {
   "cell_type": "code",
   "execution_count": 5,
   "metadata": {},
   "outputs": [],
   "source": [
    "# 2.呈上題，將array中體重(weight)數據集取出算出全部平均體重"
   ]
  },
  {
   "cell_type": "code",
   "execution_count": 4,
   "metadata": {},
   "outputs": [
    {
     "output_type": "execute_result",
     "data": {
      "text/plain": [
       "69.8375"
      ]
     },
     "metadata": {},
     "execution_count": 4
    }
   ],
   "source": [
    "np.mean(new_array['weight'])"
   ]
  },
  {
   "cell_type": "code",
   "execution_count": 6,
   "metadata": {},
   "outputs": [],
   "source": [
    "# 3.呈上題，進一步算出男生(sex欄位是boy)平均體重"
   ]
  },
  {
   "cell_type": "code",
   "execution_count": 57,
   "metadata": {},
   "outputs": [
    {
     "output_type": "execute_result",
     "data": {
      "text/plain": [
       "77.18333333333334"
      ]
     },
     "metadata": {},
     "execution_count": 57
    }
   ],
   "source": [
    "boy_list = []\n",
    "for i in new_array :\n",
    "    if i['Sex'] == 'boy':\n",
    "       boy_list.append(i)\n",
    "\n",
    "boy_array = np.array(boy,dtype=dt)\n",
    "np.mean(boy_array['Weight'])"
   ]
  },
  {
   "cell_type": "code",
   "execution_count": 56,
   "metadata": {},
   "outputs": [],
   "source": [
    "# 4.呈上題，進一步算出女生(sex欄位是girl)平均體重"
   ]
  },
  {
   "cell_type": "code",
   "execution_count": 58,
   "metadata": {},
   "outputs": [
    {
     "output_type": "execute_result",
     "data": {
      "text/plain": [
       "47.8"
      ]
     },
     "metadata": {},
     "execution_count": 58
    }
   ],
   "source": [
    "girl_list = []\n",
    "for i in new_array :\n",
    "    if i['Sex'] == 'girl':\n",
    "       girl_list.append(i)\n",
    "\n",
    "girl_array = np.array(girl_list,dtype=dt)\n",
    "np.mean(girl_array['Weight'])"
   ]
  }
 ]
}