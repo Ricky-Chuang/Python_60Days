{
 "metadata": {
  "language_info": {
   "codemirror_mode": {
    "name": "ipython",
    "version": 3
   },
   "file_extension": ".py",
   "mimetype": "text/x-python",
   "name": "python",
   "nbconvert_exporter": "python",
   "pygments_lexer": "ipython3",
   "version": "3.8.3-final"
  },
  "orig_nbformat": 2,
  "kernelspec": {
   "name": "python3",
   "display_name": "Python 3",
   "language": "python"
  }
 },
 "nbformat": 4,
 "nbformat_minor": 2,
 "cells": [
  {
   "cell_type": "code",
   "execution_count": 55,
   "metadata": {},
   "outputs": [],
   "source": [
    "# 敘述統計量計算\n",
    "# 運用自定義函數apply\n",
    "# 作業重點:\n",
    "\n",
    "# 了解敘述統計量並解釋\n",
    "# 運用apply時須注意自定義函數寫法\n",
    "# 題目\n",
    "# 對以下成績資料做分析\n",
    "\n",
    "# 6號學生(student_id=6)3科平均分數為何?\n",
    "# 6號學生3科平均分數是否有贏過班上一半的同學?\n",
    "# 由於班上同學成績不好，所以學校統一加分，加分方式為開根號乘以十，請問6號同學3科成績分別是?\n",
    "# 承上題，加分後各科班平均變多少?"
   ]
  },
  {
   "cell_type": "code",
   "execution_count": 56,
   "metadata": {},
   "outputs": [
    {
     "output_type": "execute_result",
     "data": {
      "text/plain": [
       "            math_score  english_score  chinese_score\n",
       "student_id                                          \n",
       "1                   56             66             70\n",
       "2                   90             45             34\n",
       "3                   45             32             55\n",
       "4                   70             77             89\n",
       "5                   56             80             70\n",
       "6                   60             54             55\n",
       "7                   45             70             79\n",
       "8                   34             77             76\n",
       "9                   25             87             60\n",
       "10                  88             40             43"
      ],
      "text/html": "<div>\n<style scoped>\n    .dataframe tbody tr th:only-of-type {\n        vertical-align: middle;\n    }\n\n    .dataframe tbody tr th {\n        vertical-align: top;\n    }\n\n    .dataframe thead th {\n        text-align: right;\n    }\n</style>\n<table border=\"1\" class=\"dataframe\">\n  <thead>\n    <tr style=\"text-align: right;\">\n      <th></th>\n      <th>math_score</th>\n      <th>english_score</th>\n      <th>chinese_score</th>\n    </tr>\n    <tr>\n      <th>student_id</th>\n      <th></th>\n      <th></th>\n      <th></th>\n    </tr>\n  </thead>\n  <tbody>\n    <tr>\n      <th>1</th>\n      <td>56</td>\n      <td>66</td>\n      <td>70</td>\n    </tr>\n    <tr>\n      <th>2</th>\n      <td>90</td>\n      <td>45</td>\n      <td>34</td>\n    </tr>\n    <tr>\n      <th>3</th>\n      <td>45</td>\n      <td>32</td>\n      <td>55</td>\n    </tr>\n    <tr>\n      <th>4</th>\n      <td>70</td>\n      <td>77</td>\n      <td>89</td>\n    </tr>\n    <tr>\n      <th>5</th>\n      <td>56</td>\n      <td>80</td>\n      <td>70</td>\n    </tr>\n    <tr>\n      <th>6</th>\n      <td>60</td>\n      <td>54</td>\n      <td>55</td>\n    </tr>\n    <tr>\n      <th>7</th>\n      <td>45</td>\n      <td>70</td>\n      <td>79</td>\n    </tr>\n    <tr>\n      <th>8</th>\n      <td>34</td>\n      <td>77</td>\n      <td>76</td>\n    </tr>\n    <tr>\n      <th>9</th>\n      <td>25</td>\n      <td>87</td>\n      <td>60</td>\n    </tr>\n    <tr>\n      <th>10</th>\n      <td>88</td>\n      <td>40</td>\n      <td>43</td>\n    </tr>\n  </tbody>\n</table>\n</div>"
     },
     "metadata": {},
     "execution_count": 56
    }
   ],
   "source": [
    "import pandas as pd\n",
    "score_df = pd.DataFrame([[1,56,66,70], \n",
    "              [2,90,45,34],\n",
    "              [3,45,32,55],\n",
    "              [4,70,77,89],\n",
    "              [5,56,80,70],\n",
    "              [6,60,54,55],\n",
    "              [7,45,70,79],\n",
    "              [8,34,77,76],\n",
    "              [9,25,87,60],\n",
    "              [10,88,40,43]],columns=['student_id','math_score','english_score','chinese_score'])\n",
    "score_df = score_df.set_index('student_id')\n",
    "score_df"
   ]
  },
  {
   "cell_type": "code",
   "execution_count": 57,
   "metadata": {},
   "outputs": [
    {
     "output_type": "execute_result",
     "data": {
      "text/plain": [
       "56.333333333333336"
      ]
     },
     "metadata": {},
     "execution_count": 57
    }
   ],
   "source": [
    "# 1. 6號學生(student_id=6)3科平均分數為何?\n",
    "score_df.iloc[5].mean()"
   ]
  },
  {
   "cell_type": "code",
   "execution_count": 58,
   "metadata": {},
   "outputs": [
    {
     "output_type": "execute_result",
     "data": {
      "text/plain": [
       "59.833333333333336"
      ]
     },
     "metadata": {},
     "execution_count": 58
    }
   ],
   "source": [
    "# 2. 6號學生3科平均分數是否有贏過班上一半的同學\n",
    "score_df.mean(axis=1).median()"
   ]
  },
  {
   "cell_type": "code",
   "execution_count": 59,
   "metadata": {},
   "outputs": [],
   "source": [
    "# 沒有贏過"
   ]
  },
  {
   "cell_type": "code",
   "execution_count": 61,
   "metadata": {},
   "outputs": [
    {
     "output_type": "execute_result",
     "data": {
      "text/plain": [
       "math_score       77.459667\n",
       "english_score    73.484692\n",
       "chinese_score    74.161985\n",
       "Name: 6, dtype: float64"
      ]
     },
     "metadata": {},
     "execution_count": 61
    }
   ],
   "source": [
    "# 由於班上同學成績不好，所以學校統一加分，加分方式為開根號乘以十，請問6號同學3科成績分別是?\n",
    "score_df.iloc[5].apply(lambda x : x**(0.5)*10)"
   ]
  },
  {
   "cell_type": "code",
   "execution_count": 62,
   "metadata": {},
   "outputs": [
    {
     "output_type": "execute_result",
     "data": {
      "text/plain": [
       "math_score       74.194221\n",
       "english_score    78.350301\n",
       "chinese_score    78.739928\n",
       "dtype: float64"
      ]
     },
     "metadata": {},
     "execution_count": 62
    }
   ],
   "source": [
    "# 承上題，加分後各科班平均變多少?\n",
    "df = score_df.apply(lambda x : x**(0.5)*10)\n",
    "df.mean()"
   ]
  }
 ]
}