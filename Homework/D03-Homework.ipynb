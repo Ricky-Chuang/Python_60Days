{
 "metadata": {
  "language_info": {
   "codemirror_mode": {
    "name": "ipython",
    "version": 3
   },
   "file_extension": ".py",
   "mimetype": "text/x-python",
   "name": "python",
   "nbconvert_exporter": "python",
   "pygments_lexer": "ipython3",
   "version": "3.8.3-final"
  },
  "orig_nbformat": 2,
  "kernelspec": {
   "name": "python3",
   "display_name": "Python 3",
   "language": "python"
  }
 },
 "nbformat": 4,
 "nbformat_minor": 2,
 "cells": [
  {
   "cell_type": "code",
   "execution_count": 1,
   "metadata": {},
   "outputs": [],
   "source": [
    "# 作業目標:\n",
    "# 嘗試練習log的函式並應用\n",
    "# 作業重點:\n",
    "# 學員需要複習log的轉換方式\n",
    "# 熟悉運用指數函數以及對數函數\n",
    "\n",
    "# 題目:\n",
    "# 運用投影片中的分貝公式回答下列問題。\n",
    "# 1.正常的談話的聲壓為20000微巴斯卡，請問多少分貝?\n",
    "# 2.30分貝的聲壓會是50分貝的幾倍?"
   ]
  },
  {
   "cell_type": "code",
   "execution_count": 2,
   "metadata": {},
   "outputs": [],
   "source": [
    "import numpy as np"
   ]
  },
  {
   "cell_type": "code",
   "execution_count": 9,
   "metadata": {},
   "outputs": [
    {
     "output_type": "execute_result",
     "data": {
      "text/plain": [
       "60.0"
      ]
     },
     "metadata": {},
     "execution_count": 9
    }
   ],
   "source": [
    "# #1.正常的談話的聲壓為20000微巴斯卡，請問多少分貝?\n",
    "V1 = 20000\n",
    "V0 = 20\n",
    "20*np.log10(20000/20)"
   ]
  },
  {
   "cell_type": "code",
   "execution_count": 24,
   "metadata": {},
   "outputs": [],
   "source": [
    "# 2. 30分貝的聲壓會是50分貝的幾倍?\n",
    "# 30 = 20*np.log10(V1/20)\n",
    "# V1 = (20*10**1.5)\n",
    "\n",
    "# 50 = 20*np.log10(V2/20)\n",
    "# V2 = (20*10**2.5)"
   ]
  },
  {
   "cell_type": "code",
   "execution_count": 23,
   "metadata": {},
   "outputs": [
    {
     "output_type": "execute_result",
     "data": {
      "text/plain": [
       "0.09999999999999999"
      ]
     },
     "metadata": {},
     "execution_count": 23
    }
   ],
   "source": [
    "(20*10**1.5)/(20*10**2.5)"
   ]
  },
  {
   "cell_type": "code",
   "execution_count": null,
   "metadata": {},
   "outputs": [],
   "source": [
    "# 約等於0.1倍"
   ]
  }
 ]
}